{
 "cells": [
  {
   "cell_type": "markdown",
   "id": "11f75ae0",
   "metadata": {},
   "source": [
    "# our dear friend mark how lives in california plays soccer in a club named spinoff. since he is new to california and he loves pet, he bought a cat.mark is a student eho studies in california states university (CSU)."
   ]
  },
  {
   "cell_type": "code",
   "execution_count": null,
   "id": "1b3601f3",
   "metadata": {},
   "outputs": [],
   "source": [
    "pip install networks"
   ]
  },
  {
   "cell_type": "code",
   "execution_count": null,
   "id": "bf3cd4d3",
   "metadata": {},
   "outputs": [],
   "source": [
    "pip install matplotlib"
   ]
  },
  {
   "cell_type": "code",
   "execution_count": null,
   "id": "91f6a8f6",
   "metadata": {},
   "outputs": [],
   "source": [
    "import networkx as nx"
   ]
  },
  {
   "cell_type": "code",
   "execution_count": null,
   "id": "4388c500",
   "metadata": {},
   "outputs": [],
   "source": [
    "import matplotlib.pyplot as plt\n",
    "%matplotlib notebook "
   ]
  },
  {
   "cell_type": "code",
   "execution_count": null,
   "id": "4b345210",
   "metadata": {},
   "outputs": [],
   "source": [
    "graph_Mark = nx.DiGaph(Info = \"Mark's Details\")"
   ]
  },
  {
   "cell_type": "code",
   "execution_count": null,
   "id": "07223673",
   "metadata": {},
   "outputs": [],
   "source": [
    "graph_Mark.add_node(\"Mark\",pos=(0,0))\n",
    "graph_Mark.add_node(\"cat\",pos=(-2,6))\n",
    "graph_Mark.add_node(\"students\",pos=(2,-5))\n",
    "graph_Mark.add_node(\"animal\",pos=(1,6))\n",
    "graph_Mark.add_node(\"california\",pos=(4,6))\n",
    "graph_Mark.add_node(\"spinoff\",pos=(-5,-5))\n",
    "graph_Mark.add_node(\"soccer\",pos=(-5,2))\n",
    "graph_Mark.add_node(\"sports club\",pos=(0,-8))\n",
    "graph_Mark.add_node(\"CSU\",pos=(5,-1))\n",
    "pos=nx.get_node_attributes(graph_Mark,\"pos\")"
   ]
  },
  {
   "cell_type": "code",
   "execution_count": 2,
   "id": "29a6aa19",
   "metadata": {},
   "outputs": [
    {
     "ename": "SyntaxError",
     "evalue": "invalid syntax (4060368994.py, line 8)",
     "output_type": "error",
     "traceback": [
      "\u001b[1;36m  File \u001b[1;32m\"C:\\Users\\Admin\\AppData\\Local\\Temp\\ipykernel_15340\\4060368994.py\"\u001b[1;36m, line \u001b[1;32m8\u001b[0m\n\u001b[1;33m    graph_Mark.add_edge(\"\",\"\",weight=\"has a\")graph_Mark.add_edge(\"\",\"\",weight=\"has a\")\u001b[0m\n\u001b[1;37m                                             ^\u001b[0m\n\u001b[1;31mSyntaxError\u001b[0m\u001b[1;31m:\u001b[0m invalid syntax\n"
     ]
    }
   ],
   "source": [
    "graph_Mark.add_edge(\"Mark\",\"cat\",weight=\"has a\")\n",
    "graph_Mark.add_edge(\"Mark\",\"student\",weight=\"has a\")\n",
    "graph_Mark.add_edge(\"cat\",\"animal\",weight=\"has a\")\n",
    "graph_Mark.add_edge(\"Mark\",\"soccer\",weight=\"has a\")\n",
    "graph_Mark.add_edge(\"Mark\",\"spinoff\",weight=\"has a\")\n",
    "graph_Mark.add_edge(\"Mark\",\"Califonia\",weight=\"has a\")\n",
    "graph_Mark.add_edge(\"Mark\",\"Animal\",weight=\"has a\")\n",
    "graph_Mark.add_edge(\"student\",\"CSU\",weight=\"has a\")\n",
    "graph_Mark.add_edge(\"spinoff\",\"sportclub\",weight=\"has a\")\n",
    "graph_Mark.add_edge(\"CSU\",\"Califonia\",weight=\"has a\")\n",
    "Weight=nx.get_edge_attri"
   ]
  }
 ],
 "metadata": {
  "kernelspec": {
   "display_name": "Python 3 (ipykernel)",
   "language": "python",
   "name": "python3"
  },
  "language_info": {
   "codemirror_mode": {
    "name": "ipython",
    "version": 3
   },
   "file_extension": ".py",
   "mimetype": "text/x-python",
   "name": "python",
   "nbconvert_exporter": "python",
   "pygments_lexer": "ipython3",
   "version": "3.9.13"
  }
 },
 "nbformat": 4,
 "nbformat_minor": 5
}
