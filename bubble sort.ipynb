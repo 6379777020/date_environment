{
 "cells": [
  {
   "cell_type": "code",
   "execution_count": null,
   "id": "fa35b767",
   "metadata": {},
   "outputs": [],
   "source": [
    "date =[16,21,15,7,8,24,9,1,30,10,25,13,16,11,2,11,2,5,20,28,18,3]"
   ]
  },
  {
   "cell_type": "markdown",
   "id": "617f8617",
   "metadata": {},
   "source": [
    "# date sorting\n"
   ]
  },
  {
   "cell_type": "code",
   "execution_count": null,
   "id": "e96b16a3",
   "metadata": {},
   "outputs": [],
   "source": [
    "date.sort()"
   ]
  },
  {
   "cell_type": "code",
   "execution_count": null,
   "id": "509f8211",
   "metadata": {},
   "outputs": [],
   "source": [
    "date"
   ]
  },
  {
   "cell_type": "code",
   "execution_count": null,
   "id": "77f89f2e",
   "metadata": {},
   "outputs": [],
   "source": [
    "elem = int(input(\"entre the decelerd seach elemen\"))"
   ]
  },
  {
   "cell_type": "code",
   "execution_count": null,
   "id": "01cb521b",
   "metadata": {},
   "outputs": [],
   "source": [
    "def binary_search(list1, n):  \n",
    "    low = 0  \n",
    "    high = len(data) - 1  \n",
    "    mid = 0  \n",
    "  \n",
    "    while low <= high:\n",
    "        \n",
    "        middle = (low + high ) // 2\n",
    "        \n",
    "        if data[middle] == elem:\n",
    "            print(f\"the serching element {elem} is present at index value {middle} in dataset \")\n",
    "            break\n",
    "        \n",
    "        elif data[middle] > elem:\n",
    "            high = middle - 1\n",
    "            \n",
    "            \n",
    "        else :\n",
    "            low = middle + 1\n",
    "            \n",
    "    if data[middle] != elem:\n",
    "        print(f\"the serching element {elem} is not present in dataset \")\n",
    "        return -1\n",
    "            "
   ]
  },
  {
   "cell_type": "code",
   "execution_count": 2,
   "id": "efd3a194",
   "metadata": {},
   "outputs": [
    {
     "ename": "NameError",
     "evalue": "name 'binary_search' is not defined",
     "output_type": "error",
     "traceback": [
      "\u001b[1;31m---------------------------------------------------------------------------\u001b[0m",
      "\u001b[1;31mNameError\u001b[0m                                 Traceback (most recent call last)",
      "\u001b[1;32m~\\AppData\\Local\\Temp\\ipykernel_4076\\2742207798.py\u001b[0m in \u001b[0;36m<module>\u001b[1;34m\u001b[0m\n\u001b[1;32m----> 1\u001b[1;33m \u001b[0mbinary_search\u001b[0m\u001b[1;33m(\u001b[0m\u001b[0mdata\u001b[0m\u001b[1;33m,\u001b[0m\u001b[0melem\u001b[0m\u001b[1;33m)\u001b[0m\u001b[1;33m\u001b[0m\u001b[1;33m\u001b[0m\u001b[0m\n\u001b[0m",
      "\u001b[1;31mNameError\u001b[0m: name 'binary_search' is not defined"
     ]
    }
   ],
   "source": [
    "binary_search(data,elem)"
   ]
  },
  {
   "cell_type": "markdown",
   "id": "745ac995",
   "metadata": {},
   "source": [
    "# Bubble sort"
   ]
  },
  {
   "cell_type": "code",
   "execution_count": 3,
   "id": "6aac87b8",
   "metadata": {},
   "outputs": [
    {
     "name": "stdout",
     "output_type": "stream",
     "text": [
      "Before Sorting the Array in Ascending Order:\n",
      "[-2, 45, 0, 11, 9, 11, -11, 21, 12, 100, 23, -87, -90, 675, 34]\n",
      "After Sorting the Array in Ascending Order:\n",
      "[-90, -87, -11, -2, 0, 9, 11, 11, 12, 21, 23, 34, 45, 100, 675]\n"
     ]
    }
   ],
   "source": [
    "data = [-2, 45, 0, 11, 9, 11, -11, 21, 12, 100, 23, -87, -90, 675, 34]\n",
    "\n",
    "def bubbleSort(data):\n",
    " \n",
    " # loop to access each array element\n",
    "    for i in range(len(data)):\n",
    "    \n",
    "   # loop to compare array elements\n",
    "        for j in range(0, len(data) - i - 1):\n",
    "            \n",
    "      # compare two adjacent elements\n",
    "            if data[j] > data[j + 1]:\n",
    "            \n",
    "            \n",
    "        # swapping elements if elements are not in the intended order\n",
    "                temp =data[j]\n",
    "                data[j]=data[j + 1]\n",
    "                data[j+1]=temp\n",
    "\n",
    "print('Before Sorting the Array in Ascending Order:')\n",
    "print(data)\n",
    "\n",
    "bubbleSort(data)\n",
    "\n",
    "print('After Sorting the Array in Ascending Order:')\n",
    "print(data)\n"
   ]
  },
  {
   "cell_type": "code",
   "execution_count": null,
   "id": "95c022bf",
   "metadata": {},
   "outputs": [],
   "source": []
  }
 ],
 "metadata": {
  "kernelspec": {
   "display_name": "Python 3 (ipykernel)",
   "language": "python",
   "name": "python3"
  },
  "language_info": {
   "codemirror_mode": {
    "name": "ipython",
    "version": 3
   },
   "file_extension": ".py",
   "mimetype": "text/x-python",
   "name": "python",
   "nbconvert_exporter": "python",
   "pygments_lexer": "ipython3",
   "version": "3.9.13"
  }
 },
 "nbformat": 4,
 "nbformat_minor": 5
}
