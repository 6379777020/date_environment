{
 "cells": [
  {
   "cell_type": "code",
   "execution_count": null,
   "id": "d3341de9",
   "metadata": {},
   "outputs": [],
   "source": []
  },
  {
   "cell_type": "markdown",
   "id": "4c09d855",
   "metadata": {},
   "source": [
    "# python"
   ]
  },
  {
   "cell_type": "code",
   "execution_count": null,
   "id": "6012513e",
   "metadata": {},
   "outputs": [],
   "source": [
    "my_var=100000000\n",
    "print(my_var)"
   ]
  },
  {
   "cell_type": "code",
   "execution_count": null,
   "id": "f25be0e9",
   "metadata": {},
   "outputs": [],
   "source": [
    "num1=input(\"enter your name:\")\n",
    "num2=input(\"enter your age\")\n",
    "print(num1,num2)"
   ]
  },
  {
   "cell_type": "code",
   "execution_count": null,
   "id": "ca967f44",
   "metadata": {},
   "outputs": [],
   "source": [
    "num=[1,2,3,4,]"
   ]
  },
  {
   "cell_type": "code",
   "execution_count": null,
   "id": "d449a66b",
   "metadata": {},
   "outputs": [],
   "source": [
    "print(num)"
   ]
  },
  {
   "cell_type": "code",
   "execution_count": null,
   "id": "6756d883",
   "metadata": {},
   "outputs": [],
   "source": [
    "type(num)"
   ]
  },
  {
   "cell_type": "code",
   "execution_count": null,
   "id": "867820de",
   "metadata": {},
   "outputs": [],
   "source": [
    "len(num)"
   ]
  },
  {
   "cell_type": "code",
   "execution_count": null,
   "id": "8904900d",
   "metadata": {},
   "outputs": [],
   "source": [
    "num2=(1,2,3,4)"
   ]
  },
  {
   "cell_type": "code",
   "execution_count": null,
   "id": "bb190085",
   "metadata": {},
   "outputs": [],
   "source": [
    "print(num2)"
   ]
  },
  {
   "cell_type": "code",
   "execution_count": null,
   "id": "f5c5dc97",
   "metadata": {},
   "outputs": [],
   "source": [
    "type(num2)"
   ]
  },
  {
   "cell_type": "code",
   "execution_count": null,
   "id": "5556c3fa",
   "metadata": {},
   "outputs": [],
   "source": [
    "len(num2)"
   ]
  },
  {
   "cell_type": "code",
   "execution_count": null,
   "id": "0986bebd",
   "metadata": {},
   "outputs": [],
   "source": [
    "num3={1,2,3,4,}"
   ]
  },
  {
   "cell_type": "code",
   "execution_count": null,
   "id": "d331e41d",
   "metadata": {},
   "outputs": [],
   "source": [
    "print(num3)"
   ]
  },
  {
   "cell_type": "code",
   "execution_count": null,
   "id": "aace0141",
   "metadata": {},
   "outputs": [],
   "source": [
    "type(num3)"
   ]
  },
  {
   "cell_type": "code",
   "execution_count": null,
   "id": "a9328c28",
   "metadata": {},
   "outputs": [],
   "source": [
    "len(num3)"
   ]
  },
  {
   "cell_type": "code",
   "execution_count": null,
   "id": "1a294286",
   "metadata": {},
   "outputs": [],
   "source": [
    "num4={1:\"loki\",9:\"susi\"}"
   ]
  },
  {
   "cell_type": "code",
   "execution_count": null,
   "id": "71180281",
   "metadata": {},
   "outputs": [],
   "source": [
    "print(num4)"
   ]
  },
  {
   "cell_type": "code",
   "execution_count": null,
   "id": "3697c639",
   "metadata": {},
   "outputs": [],
   "source": [
    "type(num4)"
   ]
  },
  {
   "cell_type": "code",
   "execution_count": null,
   "id": "d2452190",
   "metadata": {},
   "outputs": [],
   "source": [
    "len(num3)"
   ]
  },
  {
   "cell_type": "markdown",
   "id": "ea5f265b",
   "metadata": {},
   "source": [
    "# list operation"
   ]
  },
  {
   "cell_type": "code",
   "execution_count": null,
   "id": "fcfd2389",
   "metadata": {},
   "outputs": [],
   "source": [
    "list=['loki','susi','simbu','madhan']"
   ]
  },
  {
   "cell_type": "code",
   "execution_count": null,
   "id": "cc9b146b",
   "metadata": {},
   "outputs": [],
   "source": [
    "list[2]"
   ]
  },
  {
   "cell_type": "code",
   "execution_count": null,
   "id": "e9117b40",
   "metadata": {},
   "outputs": [],
   "source": [
    "list[-1]"
   ]
  },
  {
   "cell_type": "code",
   "execution_count": null,
   "id": "04c55026",
   "metadata": {},
   "outputs": [],
   "source": [
    "list.append('santhosh')\n",
    "print(list)"
   ]
  },
  {
   "cell_type": "markdown",
   "id": "f4b9032e",
   "metadata": {},
   "source": [
    "# tuples"
   ]
  },
  {
   "cell_type": "code",
   "execution_count": null,
   "id": "720b53e5",
   "metadata": {},
   "outputs": [],
   "source": [
    "tuple=('lokesh','shot gun','smg amo')\n",
    "print(tuple)"
   ]
  },
  {
   "cell_type": "code",
   "execution_count": null,
   "id": "10e2fa3a",
   "metadata": {},
   "outputs": [],
   "source": [
    "tuple.append('susi')\n",
    "print(tuple)"
   ]
  },
  {
   "cell_type": "code",
   "execution_count": null,
   "id": "3da10847",
   "metadata": {},
   "outputs": [],
   "source": [
    "tuple[:3]"
   ]
  },
  {
   "cell_type": "markdown",
   "id": "ffb7a277",
   "metadata": {},
   "source": [
    "# set"
   ]
  },
  {
   "cell_type": "code",
   "execution_count": null,
   "id": "f75c7c27",
   "metadata": {},
   "outputs": [],
   "source": [
    "set={1,1,1,1,'susi','loki',222,11}\n",
    "print(set)"
   ]
  },
  {
   "cell_type": "code",
   "execution_count": null,
   "id": "2ca2f5eb",
   "metadata": {},
   "outputs": [],
   "source": [
    "len(set)"
   ]
  },
  {
   "cell_type": "code",
   "execution_count": null,
   "id": "c5e21d01",
   "metadata": {},
   "outputs": [],
   "source": [
    "set.update({4,5})\n",
    "set"
   ]
  },
  {
   "cell_type": "code",
   "execution_count": null,
   "id": "4ff804bc",
   "metadata": {},
   "outputs": [],
   "source": [
    "num1=int(input(\"enter the number: \"))\n",
    "num2=int(input(\"enter the number: \"))"
   ]
  },
  {
   "cell_type": "code",
   "execution_count": null,
   "id": "c6f5340f",
   "metadata": {},
   "outputs": [],
   "source": [
    " if int(num1)%2==0:\n",
    "        print(f\"the number {num1}divisible by 2\")\n",
    "        print(f\"the number {num2}divisible by 2\")\n",
    " "
   ]
  },
  {
   "cell_type": "code",
   "execution_count": null,
   "id": "c3a3c583",
   "metadata": {},
   "outputs": [],
   "source": [
    "num=int(input(\"enter the number: \"))\n",
    "if num >0:\n",
    "    print(\"the number is positive\")\n",
    "elif num<0:\n",
    "    print(\"the number is negivitive\")\n",
    "else:\n",
    "    print(\"the number is zero\")\n"
   ]
  },
  {
   "cell_type": "markdown",
   "id": "6b91d824",
   "metadata": {},
   "source": [
    "# loop"
   ]
  },
  {
   "cell_type": "code",
   "execution_count": 1,
   "id": "6620574f",
   "metadata": {},
   "outputs": [],
   "source": [
    "num=(1,2,3,4,5,6,7,\"bsc\",\"ai\",9,10)"
   ]
  },
  {
   "cell_type": "code",
   "execution_count": 2,
   "id": "7f8bc10f",
   "metadata": {},
   "outputs": [
    {
     "name": "stdout",
     "output_type": "stream",
     "text": [
      "1\n",
      "2\n",
      "3\n",
      "4\n",
      "5\n",
      "6\n",
      "7\n",
      "bsc\n",
      "ai\n",
      "9\n",
      "10\n"
     ]
    }
   ],
   "source": [
    "for z in num:\n",
    "    print(z)"
   ]
  },
  {
   "cell_type": "code",
   "execution_count": 3,
   "id": "67ac124b",
   "metadata": {},
   "outputs": [],
   "source": [
    "num2=[1,2,3,4,5,6,7,8,9,10]"
   ]
  },
  {
   "cell_type": "code",
   "execution_count": 4,
   "id": "f2bd6aa9",
   "metadata": {},
   "outputs": [
    {
     "name": "stdout",
     "output_type": "stream",
     "text": [
      "1 is a add number\n",
      "2 is a even number\n",
      "3 is a add number\n",
      "4 is a even number\n",
      "5 is a add number\n",
      "6 is a even number\n",
      "7 is a add number\n",
      "8 is a even number\n",
      "9 is a add number\n",
      "10 is a even number\n"
     ]
    }
   ],
   "source": [
    "for i in num2:\n",
    "    if i%2==0:\n",
    "        print(i,\"is a even number\")\n",
    "    else:\n",
    "        print(i,\"is a add number\")"
   ]
  },
  {
   "cell_type": "code",
   "execution_count": 6,
   "id": "0cf822af",
   "metadata": {},
   "outputs": [
    {
     "name": "stdout",
     "output_type": "stream",
     "text": [
      "Enter a number: 5\n",
      "The sum is 0\n",
      "The sum is 1\n",
      "The sum is 3\n",
      "The sum is 6\n",
      "The sum is 10\n",
      "The sum is 15\n"
     ]
    }
   ],
   "source": [
    "n= input(\"Enter a number: \")\n",
    "val=0\n",
    "i=0\n",
    "\n",
    "while i<= int(n):\n",
    "    val +=i\n",
    "    i+=1\n",
    "    print(f\"The sum is {val}\")"
   ]
  },
  {
   "cell_type": "code",
   "execution_count": 8,
   "id": "fe2043d5",
   "metadata": {},
   "outputs": [
    {
     "name": "stdout",
     "output_type": "stream",
     "text": [
      "inside loop\n",
      "inside loop\n",
      "inside loop\n",
      "inside loop\n",
      "inside loop\n",
      "inside loop\n",
      "inside loop\n",
      "inside loop\n",
      "inside loop\n",
      "inside loop\n",
      "inside loop\n",
      "inside loop\n",
      "inside loop\n",
      "inside loop\n",
      "inside loop\n",
      "inside loop\n",
      "inside loop\n",
      "inside loop\n",
      "inside loop\n",
      "inside loop\n",
      "get out of loop\n"
     ]
    }
   ],
   "source": [
    "counter = 0\n",
    "\n",
    "while counter< 20:\n",
    "    print(\"inside loop\")\n",
    "    counter = counter + 1\n",
    "else:\n",
    "    print(\"get out of loop\")"
   ]
  },
  {
   "cell_type": "code",
   "execution_count": 10,
   "id": "619175ab",
   "metadata": {},
   "outputs": [
    {
     "name": "stdout",
     "output_type": "stream",
     "text": [
      "s\n",
      "t\n",
      "r\n",
      "i\n",
      "n\n",
      "g\n",
      "the end\n"
     ]
    }
   ],
   "source": [
    "for val in \"string\":\n",
    "    if val == \" \":\n",
    "        break\n",
    "    print(val)\n",
    "    \n",
    "print(\"the end\")    \n",
    "    "
   ]
  },
  {
   "cell_type": "markdown",
   "id": "a479d051",
   "metadata": {},
   "source": [
    "# function"
   ]
  },
  {
   "cell_type": "code",
   "execution_count": 11,
   "id": "84ee90f2",
   "metadata": {},
   "outputs": [],
   "source": [
    "def intro():\n",
    "    print(\"hi,my name is tobi\")"
   ]
  },
  {
   "cell_type": "code",
   "execution_count": 12,
   "id": "9770df4b",
   "metadata": {},
   "outputs": [
    {
     "name": "stdout",
     "output_type": "stream",
     "text": [
      "hi,my name is tobi\n"
     ]
    }
   ],
   "source": [
    "intro()"
   ]
  },
  {
   "cell_type": "code",
   "execution_count": 13,
   "id": "bbde3132",
   "metadata": {},
   "outputs": [],
   "source": [
    "def sumval(a,b):\n",
    "    return a+b"
   ]
  },
  {
   "cell_type": "code",
   "execution_count": 15,
   "id": "932aefb8",
   "metadata": {},
   "outputs": [
    {
     "name": "stdout",
     "output_type": "stream",
     "text": [
      "Enyer  the first number5\n",
      "Enter the second number10\n",
      "the sum is 15\n"
     ]
    }
   ],
   "source": [
    "num1=int(input(\"Enyer  the first number\"))\n",
    "num2=int(input(\"Enter the second number\"))\n",
    "add=sumval(num1,num2)\n",
    "print(f\"the sum is {add}\")"
   ]
  },
  {
   "cell_type": "markdown",
   "id": "edb852e8",
   "metadata": {},
   "source": [
    "# best first search"
   ]
  },
  {
   "cell_type": "code",
   "execution_count": 10,
   "id": "828cb8ce",
   "metadata": {},
   "outputs": [],
   "source": [
    "from queue import PriorityQueue\n",
    "v=14 \n",
    "graph=[[]for i in range (v)]\n",
    " "
   ]
  },
  {
   "cell_type": "code",
   "execution_count": 13,
   "id": "24c94499",
   "metadata": {},
   "outputs": [],
   "source": [
    "def best_first_search(actual_src, target, n):\n",
    "    visited = [False] * n\n",
    "    pq = PriorityQueue()\n",
    "    pq.put((0,actual_src))\n",
    "    visited[actual_src]= True\n",
    "    \n",
    "    while pq.empty() == False:\n",
    "        u=pq.get()[1]\n",
    "        print(u,end=\" \")\n",
    "        if u == target:\n",
    "            break\n",
    "        for v,c in graph[u]:\n",
    "            if visited[v] ==False:\n",
    "                visited[v] = True\n",
    "                pq.put((c,v))\n",
    "    print()\n",
    "\n",
    "def addedge(x,y,cost):\n",
    "    graph[x].append((y,cost))\n",
    "    graph[y].append((x,cost))\n",
    "    \n",
    "addedge(0,1,3)\n",
    "addedge(0,2,6)\n",
    "addedge(0,3,5)\n",
    "addedge(1,4,9)\n",
    "addedge(1,5,8)\n",
    "addedge(2,6,12)\n",
    "addedge(2,7,14)\n",
    "addedge(3,8,7)\n",
    "addedge(8,9,5)\n",
    "addedge(8,10,6)\n",
    "addedge(9,11,1)\n",
    "addedge(9,12,10)\n",
    "addedge(9,13,2)"
   ]
  },
  {
   "cell_type": "code",
   "execution_count": 14,
   "id": "35e131f0",
   "metadata": {},
   "outputs": [
    {
     "name": "stdout",
     "output_type": "stream",
     "text": [
      "0 1 3 2 8 9 \n"
     ]
    }
   ],
   "source": [
    "source = 0\n",
    "target = 9\n",
    "best_first_search(source,target,v)"
   ]
  },
  {
   "cell_type": "code",
   "execution_count": null,
   "id": "824f9ec5",
   "metadata": {},
   "outputs": [],
   "source": []
  }
 ],
 "metadata": {
  "kernelspec": {
   "display_name": "Python 3 (ipykernel)",
   "language": "python",
   "name": "python3"
  },
  "language_info": {
   "codemirror_mode": {
    "name": "ipython",
    "version": 3
   },
   "file_extension": ".py",
   "mimetype": "text/x-python",
   "name": "python",
   "nbconvert_exporter": "python",
   "pygments_lexer": "ipython3",
   "version": "3.9.13"
  }
 },
 "nbformat": 4,
 "nbformat_minor": 5
}
