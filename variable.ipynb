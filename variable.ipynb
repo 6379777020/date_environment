{
 "cells": [
  {
   "cell_type": "code",
   "execution_count": 1,
   "id": "c6296d8e",
   "metadata": {},
   "outputs": [
    {
     "name": "stdout",
     "output_type": "stream",
     "text": [
      "100\n"
     ]
    }
   ],
   "source": [
    "my_var=100\n",
    "print(my_var)"
   ]
  },
  {
   "cell_type": "code",
   "execution_count": 2,
   "id": "6a9b969a",
   "metadata": {},
   "outputs": [
    {
     "name": "stdout",
     "output_type": "stream",
     "text": [
      "100\n"
     ]
    }
   ],
   "source": [
    "_my_var=100\n",
    "print(_my_var)"
   ]
  },
  {
   "cell_type": "code",
   "execution_count": 3,
   "id": "198df6eb",
   "metadata": {},
   "outputs": [
    {
     "ename": "SyntaxError",
     "evalue": "invalid syntax (413263138.py, line 1)",
     "output_type": "error",
     "traceback": [
      "\u001b[1;36m  Cell \u001b[1;32mIn[3], line 1\u001b[1;36m\u001b[0m\n\u001b[1;33m    Class=bsc ai\u001b[0m\n\u001b[1;37m              ^\u001b[0m\n\u001b[1;31mSyntaxError\u001b[0m\u001b[1;31m:\u001b[0m invalid syntax\n"
     ]
    }
   ],
   "source": [
    "Class=bsc ai\n",
    "print(Class)"
   ]
  },
  {
   "cell_type": "code",
   "execution_count": 4,
   "id": "cec101e0",
   "metadata": {},
   "outputs": [
    {
     "ename": "SyntaxError",
     "evalue": "invalid decimal literal (1494216106.py, line 1)",
     "output_type": "error",
     "traceback": [
      "\u001b[1;36m  Cell \u001b[1;32mIn[4], line 1\u001b[1;36m\u001b[0m\n\u001b[1;33m    1_my_var=10\u001b[0m\n\u001b[1;37m     ^\u001b[0m\n\u001b[1;31mSyntaxError\u001b[0m\u001b[1;31m:\u001b[0m invalid decimal literal\n"
     ]
    }
   ],
   "source": [
    "1_my_var=10\n",
    "print(1_my_var)"
   ]
  },
  {
   "cell_type": "code",
   "execution_count": 5,
   "id": "dadd8dfc",
   "metadata": {},
   "outputs": [
    {
     "ename": "SyntaxError",
     "evalue": "invalid syntax (3340783235.py, line 1)",
     "output_type": "error",
     "traceback": [
      "\u001b[1;36m  Cell \u001b[1;32mIn[5], line 1\u001b[1;36m\u001b[0m\n\u001b[1;33m    List=bsc ai\u001b[0m\n\u001b[1;37m             ^\u001b[0m\n\u001b[1;31mSyntaxError\u001b[0m\u001b[1;31m:\u001b[0m invalid syntax\n"
     ]
    }
   ],
   "source": [
    "List=bsc ai\n",
    "print(List)"
   ]
  },
  {
   "cell_type": "code",
   "execution_count": 6,
   "id": "232bcdf5",
   "metadata": {},
   "outputs": [
    {
     "name": "stdout",
     "output_type": "stream",
     "text": [
      "10\n"
     ]
    }
   ],
   "source": [
    "type=10\n",
    "print(type)"
   ]
  },
  {
   "cell_type": "code",
   "execution_count": 7,
   "id": "5f64b2f9",
   "metadata": {},
   "outputs": [
    {
     "name": "stdout",
     "output_type": "stream",
     "text": [
      "enter the first number:10\n",
      "enter the second number:2\n",
      "10 2\n"
     ]
    }
   ],
   "source": [
    "num=input(\"enter the first number:\")\n",
    "num1=input(\"enter the second number:\")\n",
    "num2=100\n",
    "print(num,num1)"
   ]
  },
  {
   "cell_type": "markdown",
   "id": "9e404ee8",
   "metadata": {},
   "source": [
    "# list"
   ]
  },
  {
   "cell_type": "code",
   "execution_count": 45,
   "id": "c0809c40",
   "metadata": {},
   "outputs": [],
   "source": [
    "fruits=[\"apple\",\"orange\",\"pineapple\",2,3,\"i\"]"
   ]
  },
  {
   "cell_type": "code",
   "execution_count": 46,
   "id": "063363b2",
   "metadata": {},
   "outputs": [
    {
     "name": "stdout",
     "output_type": "stream",
     "text": [
      "['apple', 'orange', 'pineapple', 2, 3, 'i']\n"
     ]
    }
   ],
   "source": [
    "print(fruits)"
   ]
  },
  {
   "cell_type": "code",
   "execution_count": 48,
   "id": "26943f2d",
   "metadata": {},
   "outputs": [
    {
     "ename": "TypeError",
     "evalue": "'int' object is not callable",
     "output_type": "error",
     "traceback": [
      "\u001b[1;31m---------------------------------------------------------------------------\u001b[0m",
      "\u001b[1;31mTypeError\u001b[0m                                 Traceback (most recent call last)",
      "Cell \u001b[1;32mIn[48], line 1\u001b[0m\n\u001b[1;32m----> 1\u001b[0m \u001b[38;5;28;43mtype\u001b[39;49m\u001b[43m(\u001b[49m\u001b[43mfruits\u001b[49m\u001b[43m)\u001b[49m\n",
      "\u001b[1;31mTypeError\u001b[0m: 'int' object is not callable"
     ]
    }
   ],
   "source": [
    "type(fruits)"
   ]
  },
  {
   "cell_type": "code",
   "execution_count": 11,
   "id": "cf875713",
   "metadata": {},
   "outputs": [],
   "source": [
    "List=[\"jagan\",\"dinesh\",1,2,3,\"l\"]"
   ]
  },
  {
   "cell_type": "code",
   "execution_count": 12,
   "id": "a14927a8",
   "metadata": {},
   "outputs": [
    {
     "name": "stdout",
     "output_type": "stream",
     "text": [
      "['jagan', 'dinesh', 1, 2, 3, 'l']\n"
     ]
    }
   ],
   "source": [
    "print(List)"
   ]
  },
  {
   "cell_type": "code",
   "execution_count": 17,
   "id": "f67de567",
   "metadata": {},
   "outputs": [
    {
     "ename": "TypeError",
     "evalue": "'int' object is not callable",
     "output_type": "error",
     "traceback": [
      "\u001b[1;31m---------------------------------------------------------------------------\u001b[0m",
      "\u001b[1;31mTypeError\u001b[0m                                 Traceback (most recent call last)",
      "Cell \u001b[1;32mIn[17], line 1\u001b[0m\n\u001b[1;32m----> 1\u001b[0m \u001b[38;5;28;43mtype\u001b[39;49m\u001b[43m(\u001b[49m\u001b[43mList\u001b[49m\u001b[43m)\u001b[49m\n",
      "\u001b[1;31mTypeError\u001b[0m: 'int' object is not callable"
     ]
    }
   ],
   "source": [
    "type(List)"
   ]
  },
  {
   "cell_type": "markdown",
   "id": "760f8ea0",
   "metadata": {},
   "source": [
    "# accessing elements in a list"
   ]
  },
  {
   "cell_type": "code",
   "execution_count": 18,
   "id": "2917ab88",
   "metadata": {},
   "outputs": [
    {
     "data": {
      "text/plain": [
       "3"
      ]
     },
     "execution_count": 18,
     "metadata": {},
     "output_type": "execute_result"
    }
   ],
   "source": [
    "fruits[4]"
   ]
  },
  {
   "cell_type": "code",
   "execution_count": 19,
   "id": "ad84a75b",
   "metadata": {},
   "outputs": [
    {
     "data": {
      "text/plain": [
       "'i'"
      ]
     },
     "execution_count": 19,
     "metadata": {},
     "output_type": "execute_result"
    }
   ],
   "source": [
    "fruits[-1]"
   ]
  },
  {
   "cell_type": "markdown",
   "id": "1e2dd528",
   "metadata": {},
   "source": [
    "# length of elements"
   ]
  },
  {
   "cell_type": "code",
   "execution_count": 20,
   "id": "ce62a19b",
   "metadata": {},
   "outputs": [
    {
     "data": {
      "text/plain": [
       "6"
      ]
     },
     "execution_count": 20,
     "metadata": {},
     "output_type": "execute_result"
    }
   ],
   "source": [
    "len(fruits)"
   ]
  },
  {
   "cell_type": "markdown",
   "id": "ffb16af4",
   "metadata": {},
   "source": [
    "# adding element in a list"
   ]
  },
  {
   "cell_type": "code",
   "execution_count": 21,
   "id": "ab55bbbc",
   "metadata": {},
   "outputs": [],
   "source": [
    "Fruits=fruits+List"
   ]
  },
  {
   "cell_type": "code",
   "execution_count": 22,
   "id": "fa4eed64",
   "metadata": {},
   "outputs": [
    {
     "name": "stdout",
     "output_type": "stream",
     "text": [
      "['apple', 'orange', 'pineapple', 2, 3, 'i', 'jagan', 'dinesh', 1, 2, 3, 'l']\n"
     ]
    }
   ],
   "source": [
    "print(Fruits)"
   ]
  },
  {
   "cell_type": "code",
   "execution_count": 23,
   "id": "f0f374fd",
   "metadata": {},
   "outputs": [],
   "source": [
    "Fruits.extend(List)"
   ]
  },
  {
   "cell_type": "code",
   "execution_count": 24,
   "id": "3edd13db",
   "metadata": {},
   "outputs": [
    {
     "name": "stdout",
     "output_type": "stream",
     "text": [
      "['apple', 'orange', 'pineapple', 2, 3, 'i', 'jagan', 'dinesh', 1, 2, 3, 'l', 'jagan', 'dinesh', 1, 2, 3, 'l']\n"
     ]
    }
   ],
   "source": [
    "print(Fruits)"
   ]
  },
  {
   "cell_type": "code",
   "execution_count": 33,
   "id": "f767d054",
   "metadata": {},
   "outputs": [],
   "source": [
    "Fruits.remove(\"dinesh\")"
   ]
  },
  {
   "cell_type": "code",
   "execution_count": 34,
   "id": "0928a46d",
   "metadata": {},
   "outputs": [
    {
     "name": "stdout",
     "output_type": "stream",
     "text": [
      "['apple', 'orange', 'pineapple', 2, 3, 'i', 'jagan', 1, 2, 3, 'l', 'jagan', 'dinesh', 1, 2, 3, 'l']\n"
     ]
    }
   ],
   "source": [
    "print(Fruits)"
   ]
  },
  {
   "cell_type": "code",
   "execution_count": 35,
   "id": "d5fef573",
   "metadata": {},
   "outputs": [],
   "source": [
    "fruits.append(\"watermelon\")"
   ]
  },
  {
   "cell_type": "code",
   "execution_count": 36,
   "id": "654d188b",
   "metadata": {},
   "outputs": [
    {
     "name": "stdout",
     "output_type": "stream",
     "text": [
      "['apple', 'pineapple', 2, 3, 'i', 'watermelon']\n"
     ]
    }
   ],
   "source": [
    "print(fruits)"
   ]
  },
  {
   "cell_type": "code",
   "execution_count": 37,
   "id": "eba675c3",
   "metadata": {},
   "outputs": [
    {
     "data": {
      "text/plain": [
       "'watermelon'"
      ]
     },
     "execution_count": 37,
     "metadata": {},
     "output_type": "execute_result"
    }
   ],
   "source": [
    "fruits.pop()"
   ]
  },
  {
   "cell_type": "code",
   "execution_count": 38,
   "id": "788943e2",
   "metadata": {},
   "outputs": [
    {
     "data": {
      "text/plain": [
       "3"
      ]
     },
     "execution_count": 38,
     "metadata": {},
     "output_type": "execute_result"
    }
   ],
   "source": [
    "List.pop()"
   ]
  },
  {
   "cell_type": "code",
   "execution_count": 39,
   "id": "4b791508",
   "metadata": {},
   "outputs": [],
   "source": [
    "del fruits[1]"
   ]
  },
  {
   "cell_type": "code",
   "execution_count": 40,
   "id": "65e4282d",
   "metadata": {},
   "outputs": [
    {
     "name": "stdout",
     "output_type": "stream",
     "text": [
      "['apple', 2, 3, 'i']\n"
     ]
    }
   ],
   "source": [
    "print(fruits)"
   ]
  },
  {
   "cell_type": "markdown",
   "id": "a44becf1",
   "metadata": {},
   "source": [
    "# tuple"
   ]
  },
  {
   "cell_type": "code",
   "execution_count": null,
   "id": "7a327e04",
   "metadata": {},
   "outputs": [],
   "source": [
    "fruits=(\"apple\",\"orange\",\"pineapple\")"
   ]
  },
  {
   "cell_type": "code",
   "execution_count": null,
   "id": "fefbf3b6",
   "metadata": {},
   "outputs": [],
   "source": [
    "print(fruits)"
   ]
  },
  {
   "cell_type": "code",
   "execution_count": null,
   "id": "8ceacfa1",
   "metadata": {},
   "outputs": [],
   "source": [
    "type(fruits)"
   ]
  },
  {
   "cell_type": "code",
   "execution_count": null,
   "id": "2ddf8e56",
   "metadata": {},
   "outputs": [],
   "source": [
    "Tuple="
   ]
  },
  {
   "cell_type": "code",
   "execution_count": null,
   "id": "8a78b75f",
   "metadata": {},
   "outputs": [],
   "source": []
  },
  {
   "cell_type": "code",
   "execution_count": null,
   "id": "586acf04",
   "metadata": {},
   "outputs": [],
   "source": []
  },
  {
   "cell_type": "code",
   "execution_count": null,
   "id": "4ffe1092",
   "metadata": {},
   "outputs": [],
   "source": []
  },
  {
   "cell_type": "markdown",
   "id": "1cd7443d",
   "metadata": {},
   "source": [
    "# set"
   ]
  },
  {
   "cell_type": "code",
   "execution_count": null,
   "id": "6481d283",
   "metadata": {},
   "outputs": [],
   "source": [
    "fruits={\"apple\",\"orange\",\"pineapple\"}"
   ]
  },
  {
   "cell_type": "code",
   "execution_count": null,
   "id": "ec56f978",
   "metadata": {},
   "outputs": [],
   "source": [
    "print(fruits)"
   ]
  },
  {
   "cell_type": "code",
   "execution_count": null,
   "id": "ee44ceed",
   "metadata": {},
   "outputs": [],
   "source": [
    "type(fruits)"
   ]
  },
  {
   "cell_type": "markdown",
   "id": "dd0f35c3",
   "metadata": {},
   "source": [
    "# dictionary"
   ]
  },
  {
   "cell_type": "code",
   "execution_count": null,
   "id": "4a74c87a",
   "metadata": {},
   "outputs": [],
   "source": [
    "fruits={1:\"apple\",2:\"orange\"}"
   ]
  },
  {
   "cell_type": "code",
   "execution_count": null,
   "id": "ea0a632e",
   "metadata": {},
   "outputs": [],
   "source": [
    "print(fruits)"
   ]
  },
  {
   "cell_type": "code",
   "execution_count": null,
   "id": "b334d4b3",
   "metadata": {},
   "outputs": [],
   "source": [
    "type(fruits)"
   ]
  },
  {
   "cell_type": "code",
   "execution_count": null,
   "id": "1f44928e",
   "metadata": {},
   "outputs": [],
   "source": [
    "course={1:\"python\",2:\"ROS\",}"
   ]
  },
  {
   "cell_type": "code",
   "execution_count": null,
   "id": "d7c391e1",
   "metadata": {},
   "outputs": [],
   "source": []
  },
  {
   "cell_type": "code",
   "execution_count": null,
   "id": "bcec57e2",
   "metadata": {},
   "outputs": [],
   "source": []
  },
  {
   "cell_type": "markdown",
   "id": "0d6ec290",
   "metadata": {},
   "source": [
    "# slicing"
   ]
  },
  {
   "cell_type": "code",
   "execution_count": 62,
   "id": "32b9d469",
   "metadata": {},
   "outputs": [],
   "source": [
    "name=[\"jagan\",\"dinesh\",1,2,5]"
   ]
  },
  {
   "cell_type": "code",
   "execution_count": 63,
   "id": "e8544f7c",
   "metadata": {},
   "outputs": [
    {
     "name": "stdout",
     "output_type": "stream",
     "text": [
      "['jagan', 'dinesh', 1, 2, 5]\n"
     ]
    }
   ],
   "source": [
    "print(name)"
   ]
  },
  {
   "cell_type": "code",
   "execution_count": 64,
   "id": "5e778df3",
   "metadata": {},
   "outputs": [
    {
     "data": {
      "text/plain": [
       "[1, 2, 5]"
      ]
     },
     "execution_count": 64,
     "metadata": {},
     "output_type": "execute_result"
    }
   ],
   "source": [
    "name[2:]"
   ]
  },
  {
   "cell_type": "code",
   "execution_count": 66,
   "id": "65d39478",
   "metadata": {},
   "outputs": [
    {
     "ename": "AttributeError",
     "evalue": "'list' object has no attribute 'add'",
     "output_type": "error",
     "traceback": [
      "\u001b[1;31m---------------------------------------------------------------------------\u001b[0m",
      "\u001b[1;31mAttributeError\u001b[0m                            Traceback (most recent call last)",
      "Cell \u001b[1;32mIn[66], line 1\u001b[0m\n\u001b[1;32m----> 1\u001b[0m \u001b[43mname\u001b[49m\u001b[38;5;241;43m.\u001b[39;49m\u001b[43madd\u001b[49m(\u001b[38;5;241m8\u001b[39m)\n",
      "\u001b[1;31mAttributeError\u001b[0m: 'list' object has no attribute 'add'"
     ]
    }
   ],
   "source": [
    "name.add(8)"
   ]
  },
  {
   "cell_type": "code",
   "execution_count": null,
   "id": "7dedcd8c",
   "metadata": {},
   "outputs": [],
   "source": []
  },
  {
   "cell_type": "code",
   "execution_count": null,
   "id": "58ee5dad",
   "metadata": {},
   "outputs": [],
   "source": []
  },
  {
   "cell_type": "code",
   "execution_count": null,
   "id": "50cd7cf7",
   "metadata": {},
   "outputs": [],
   "source": []
  },
  {
   "cell_type": "code",
   "execution_count": null,
   "id": "4acc0ae3",
   "metadata": {},
   "outputs": [],
   "source": []
  },
  {
   "cell_type": "code",
   "execution_count": null,
   "id": "9b46f445",
   "metadata": {},
   "outputs": [],
   "source": []
  },
  {
   "cell_type": "code",
   "execution_count": null,
   "id": "b4a5e23e",
   "metadata": {},
   "outputs": [],
   "source": []
  },
  {
   "cell_type": "code",
   "execution_count": null,
   "id": "547d88b6",
   "metadata": {},
   "outputs": [],
   "source": []
  },
  {
   "cell_type": "code",
   "execution_count": null,
   "id": "67ea7603",
   "metadata": {},
   "outputs": [],
   "source": []
  },
  {
   "cell_type": "code",
   "execution_count": null,
   "id": "58595e95",
   "metadata": {},
   "outputs": [],
   "source": []
  },
  {
   "cell_type": "code",
   "execution_count": null,
   "id": "72bb4057",
   "metadata": {},
   "outputs": [],
   "source": []
  },
  {
   "cell_type": "code",
   "execution_count": null,
   "id": "b272ae37",
   "metadata": {},
   "outputs": [],
   "source": []
  }
 ],
 "metadata": {
  "kernelspec": {
   "display_name": "Python 3 (ipykernel)",
   "language": "python",
   "name": "python3"
  },
  "language_info": {
   "codemirror_mode": {
    "name": "ipython",
    "version": 3
   },
   "file_extension": ".py",
   "mimetype": "text/x-python",
   "name": "python",
   "nbconvert_exporter": "python",
   "pygments_lexer": "ipython3",
   "version": "3.9.17"
  }
 },
 "nbformat": 4,
 "nbformat_minor": 5
}
