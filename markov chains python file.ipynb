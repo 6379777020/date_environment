{
 "cells": [
  {
   "cell_type": "markdown",
   "id": "2a5cee72",
   "metadata": {},
   "source": [
    "# import the required libraries\n"
   ]
  },
  {
   "cell_type": "code",
   "execution_count": 1,
   "id": "4e03717d",
   "metadata": {},
   "outputs": [],
   "source": [
    "from protopunica import *\n",
    "import numpy as np"
   ]
  },
  {
   "cell_type": "markdown",
   "id": "cba88c99",
   "metadata": {},
   "source": [
    "# Define the initial state\n"
   ]
  },
  {
   "cell_type": "code",
   "execution_count": 2,
   "id": "bff9c5c2",
   "metadata": {},
   "outputs": [],
   "source": [
    "start = DiscreteDistribution({\n",
    "    \"pizza\":1,\n",
    "    \"veg\":0\n",
    "})"
   ]
  },
  {
   "cell_type": "markdown",
   "id": "190327c5",
   "metadata": {},
   "source": [
    "# Define the transition matrix"
   ]
  },
  {
   "cell_type": "code",
   "execution_count": 10,
   "id": "84d82d8a",
   "metadata": {},
   "outputs": [],
   "source": [
    "transitions = ConditionalProbabilityTable([\n",
    "    [\"pizza\",\"pizza\",0.75],\n",
    "    [\"pizza\",\"veg\",0.25],\n",
    "    [\"veg\",\"veg\",0.6],\n",
    "    [\"veg\",\"pizza\",0.4]\n",
    "],[start])"
   ]
  },
  {
   "cell_type": "code",
   "execution_count": 11,
   "id": "0d5ec801",
   "metadata": {},
   "outputs": [],
   "source": [
    "Model=MarkovChain([start,transitions])"
   ]
  },
  {
   "cell_type": "code",
   "execution_count": 13,
   "id": "08242186",
   "metadata": {},
   "outputs": [],
   "source": [
    "Random_samples=Model.sample(2)"
   ]
  },
  {
   "cell_type": "code",
   "execution_count": 14,
   "id": "4ab487b3",
   "metadata": {},
   "outputs": [
    {
     "name": "stdout",
     "output_type": "stream",
     "text": [
      "['pizza', 'pizza']\n"
     ]
    }
   ],
   "source": [
    "print(Random_samples)"
   ]
  },
  {
   "cell_type": "code",
   "execution_count": 17,
   "id": "5ee78612",
   "metadata": {},
   "outputs": [],
   "source": [
    "Log_probability=Model.log_probability(Random_samples)"
   ]
  },
  {
   "cell_type": "code",
   "execution_count": 23,
   "id": "fee1756e",
   "metadata": {},
   "outputs": [],
   "source": [
    "probability_of_Occurence=np.exp(Log_probability)"
   ]
  },
  {
   "cell_type": "code",
   "execution_count": 22,
   "id": "21e4b8de",
   "metadata": {},
   "outputs": [
    {
     "data": {
      "text/plain": [
       "0.75"
      ]
     },
     "execution_count": 22,
     "metadata": {},
     "output_type": "execute_result"
    }
   ],
   "source": [
    "probability_of_Occurence"
   ]
  },
  {
   "cell_type": "code",
   "execution_count": 37,
   "id": "bd4e5ee6",
   "metadata": {},
   "outputs": [],
   "source": [
    "log_probability_food_sequence = Model.log_probability([\"pizza\",\"pizza\",\"pizza\",])"
   ]
  },
  {
   "cell_type": "code",
   "execution_count": 38,
   "id": "749c7a45",
   "metadata": {},
   "outputs": [],
   "source": [
    "probability_of_food = np.exp(log_probability_food_sequence)"
   ]
  },
  {
   "cell_type": "code",
   "execution_count": 39,
   "id": "ac2715a6",
   "metadata": {},
   "outputs": [
    {
     "name": "stdout",
     "output_type": "stream",
     "text": [
      "0.5625\n"
     ]
    }
   ],
   "source": [
    "print(probability_of_food)"
   ]
  },
  {
   "cell_type": "code",
   "execution_count": null,
   "id": "084b7c2d",
   "metadata": {},
   "outputs": [],
   "source": []
  }
 ],
 "metadata": {
  "kernelspec": {
   "display_name": "Python 3 (ipykernel)",
   "language": "python",
   "name": "python3"
  },
  "language_info": {
   "codemirror_mode": {
    "name": "ipython",
    "version": 3
   },
   "file_extension": ".py",
   "mimetype": "text/x-python",
   "name": "python",
   "nbconvert_exporter": "python",
   "pygments_lexer": "ipython3",
   "version": "3.9.13"
  }
 },
 "nbformat": 4,
 "nbformat_minor": 5
}
